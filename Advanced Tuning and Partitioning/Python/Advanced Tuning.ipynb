{
 "cells": [
  {
   "cell_type": "markdown",
   "metadata": {},
   "source": [
    "## AutoML for House Price Predictor Model\n",
    "**Author**: Thodoris Petropoulos\n",
    "\n",
    "**Label**: Modeling Options\n",
    "### Scope\n",
    "The scope of this notebook is to provide instructions on how to do advanced tuning using the Python API.\n",
    "\n",
    "### Background\n",
    "\n",
    "DataRobot is very good at choosing optimal hyperparameters for models to maximize speed and accuracy. However, sometimes we wish to change those hyperparameters ourselves.  This could be because we know something that DataRobot does not, we want to experiment with different approaches, or we have some other reason to use a particular parameter.\n",
    "\n",
    "### Requirements\n",
    "\n",
    "- Python version 3.7.3\n",
    "-  DataRobot API version 2.19.0. \n",
    "Small adjustments might be needed depending on the Python version and DataRobot API version you are using.\n",
    "\n",
    "Full documentation of the Python package can be found here: https://datarobot-public-api-client.readthedocs-hosted.com\n",
    "\n",
    "It is assumed you already have a DataRobot <code>Project</code> object and a DataRobot <code>Model</code> object."
   ]
  },
  {
   "cell_type": "markdown",
   "metadata": {},
   "source": [
    "#### Import Libraries"
   ]
  },
  {
   "cell_type": "code",
   "execution_count": 2,
   "metadata": {},
   "outputs": [],
   "source": [
    "import datarobot as dr"
   ]
  },
  {
   "cell_type": "markdown",
   "metadata": {},
   "source": [
    "### Advanced Tuning Interface"
   ]
  },
  {
   "cell_type": "markdown",
   "metadata": {},
   "source": [
    "The easiest way to do advanced tuning is to set up a model and use the <code>start_advanced_tunning_session</code> method."
   ]
  },
  {
   "cell_type": "code",
   "execution_count": 4,
   "metadata": {},
   "outputs": [],
   "source": [
    "tune = model.start_advanced_tuning_session()"
   ]
  },
  {
   "cell_type": "markdown",
   "metadata": {},
   "source": [
    "This function returns an object that you can use to see the default, current value, and possible values for each one of the parameters you can change."
   ]
  },
  {
   "cell_type": "markdown",
   "metadata": {},
   "source": [
    "### Get Data on Parameters Available for Tuning\n",
    "If you wish to see the underlying data of which parameters are available for tuning for a model and what their default, current, and possible values are, then you can turn to <code>get_parameters</code>:"
   ]
  },
  {
   "cell_type": "code",
   "execution_count": 5,
   "metadata": {},
   "outputs": [
    {
     "data": {
      "text/plain": [
       "{'tuning_description': None,\n",
       " 'tuning_parameters': [{'parameter_name': 'enet_alpha',\n",
       "   'parameter_id': 'eyJhcmciOiJlbmV0X2FscGhhIiwidmlkIjoiMTEifQ',\n",
       "   'default_value': 0.5,\n",
       "   'current_value': 0.5,\n",
       "   'task_name': 'Elastic-Net Classifier (mixing alpha=0.5 / Binomial Deviance) with Unsupervised Learning Features',\n",
       "   'constraints': {'select': {'values': ['auto']},\n",
       "    'float': {'min': 0.0, 'max': 1.0, 'supports_grid_search': True}},\n",
       "   'value': None},\n",
       "  {'parameter_name': 'enet_lambda',\n",
       "   'parameter_id': 'eyJhcmciOiJlbmV0X2xhbWJkYSIsInZpZCI6IjExIn0',\n",
       "   'default_value': 0.00809400121608,\n",
       "   'current_value': 0.00809400121608,\n",
       "   'task_name': 'Elastic-Net Classifier (mixing alpha=0.5 / Binomial Deviance) with Unsupervised Learning Features',\n",
       "   'constraints': {'select': {'values': ['auto']},\n",
       "    'float': {'min': 1e-10,\n",
       "     'max': 0.9999999999,\n",
       "     'supports_grid_search': True}},\n",
       "   'value': None},\n",
       "  {'parameter_name': 'fit_alpha_scaler',\n",
       "   'parameter_id': 'eyJhcmciOiJmaXRfYWxwaGFfc2NhbGVyIiwidmlkIjoiMTEifQ',\n",
       "   'default_value': 'True',\n",
       "   'current_value': 'True',\n",
       "   'task_name': 'Elastic-Net Classifier (mixing alpha=0.5 / Binomial Deviance) with Unsupervised Learning Features',\n",
       "   'constraints': {'select': {'values': ['False', 'True']}},\n",
       "   'value': None},\n",
       "  {'parameter_name': 'fit_intercept',\n",
       "   'parameter_id': 'eyJhcmciOiJmaXRfaW50ZXJjZXB0IiwidmlkIjoiMTEifQ',\n",
       "   'default_value': 'True',\n",
       "   'current_value': 'True',\n",
       "   'task_name': 'Elastic-Net Classifier (mixing alpha=0.5 / Binomial Deviance) with Unsupervised Learning Features',\n",
       "   'constraints': {'select': {'values': ['False', 'True']}},\n",
       "   'value': None},\n",
       "  {'parameter_name': 'max_iter',\n",
       "   'parameter_id': 'eyJhcmciOiJtYXhfaXRlciIsInZpZCI6IjExIn0',\n",
       "   'default_value': 100,\n",
       "   'current_value': 100,\n",
       "   'task_name': 'Elastic-Net Classifier (mixing alpha=0.5 / Binomial Deviance) with Unsupervised Learning Features',\n",
       "   'constraints': {'int': {'min': 1,\n",
       "     'max': 1000000,\n",
       "     'supports_grid_search': False}},\n",
       "   'value': None},\n",
       "  {'parameter_name': 'random_state',\n",
       "   'parameter_id': 'eyJhcmciOiJyYW5kb21fc3RhdGUiLCJ2aWQiOiIxMSJ9',\n",
       "   'default_value': 1234,\n",
       "   'current_value': 1234,\n",
       "   'task_name': 'Elastic-Net Classifier (mixing alpha=0.5 / Binomial Deviance) with Unsupervised Learning Features',\n",
       "   'constraints': {'int': {'min': 0,\n",
       "     'max': 1000000000,\n",
       "     'supports_grid_search': False}},\n",
       "   'value': None},\n",
       "  {'parameter_name': 'sigma',\n",
       "   'parameter_id': 'eyJhcmciOiJzaWdtYSIsInZpZCI6IjExIn0',\n",
       "   'default_value': 1e-06,\n",
       "   'current_value': 1e-06,\n",
       "   'task_name': 'Elastic-Net Classifier (mixing alpha=0.5 / Binomial Deviance) with Unsupervised Learning Features',\n",
       "   'constraints': {'float': {'min': 0.0,\n",
       "     'max': 1e-06,\n",
       "     'supports_grid_search': False}},\n",
       "   'value': None},\n",
       "  {'parameter_name': 'tol',\n",
       "   'parameter_id': 'eyJhcmciOiJ0b2wiLCJ2aWQiOiIxMSJ9',\n",
       "   'default_value': 0.0001,\n",
       "   'current_value': 0.0001,\n",
       "   'task_name': 'Elastic-Net Classifier (mixing alpha=0.5 / Binomial Deviance) with Unsupervised Learning Features',\n",
       "   'constraints': {'float': {'min': 1e-10,\n",
       "     'max': 10000000000.0,\n",
       "     'supports_grid_search': False}},\n",
       "   'value': None},\n",
       "  {'parameter_name': 'n_clusters',\n",
       "   'parameter_id': 'eyJhcmciOiJuX2NsdXN0ZXJzIiwidmlkIjoiOSJ9',\n",
       "   'default_value': 'auto',\n",
       "   'current_value': 'auto',\n",
       "   'task_name': 'K-Means Clustering',\n",
       "   'constraints': {'select': {'values': ['auto', 'pham']},\n",
       "    'int': {'min': 2, 'max': 10000, 'supports_grid_search': False}},\n",
       "   'value': None},\n",
       "  {'parameter_name': 'analyzer',\n",
       "   'parameter_id': 'eyJhcmciOiJhbmFseXplciIsInZpZCI6IjIifQ',\n",
       "   'default_value': 'word',\n",
       "   'current_value': 'word',\n",
       "   'task_name': 'Matrix of word-grams occurrences',\n",
       "   'constraints': {'select': {'values': ['word', 'char']}},\n",
       "   'value': None},\n",
       "  {'parameter_name': 'binary',\n",
       "   'parameter_id': 'eyJhcmciOiJiaW5hcnkiLCJ2aWQiOiIyIn0',\n",
       "   'default_value': 'True',\n",
       "   'current_value': 'True',\n",
       "   'task_name': 'Matrix of word-grams occurrences',\n",
       "   'constraints': {'select': {'values': ['False', 'True']}},\n",
       "   'value': None},\n",
       "  {'parameter_name': 'language',\n",
       "   'parameter_id': 'eyJhcmciOiJsYW5ndWFnZSIsInZpZCI6IjIifQ',\n",
       "   'default_value': 'english',\n",
       "   'current_value': 'english',\n",
       "   'task_name': 'Matrix of word-grams occurrences',\n",
       "   'constraints': {'select': {'values': ['english',\n",
       "      'danish',\n",
       "      'dutch',\n",
       "      'finnish',\n",
       "      'french',\n",
       "      'german',\n",
       "      'hungarian',\n",
       "      'italian',\n",
       "      'norwegian',\n",
       "      'portuguese',\n",
       "      'romanian',\n",
       "      'russian',\n",
       "      'spanish',\n",
       "      'swedish',\n",
       "      'japanese',\n",
       "      'turkish']}},\n",
       "   'value': None},\n",
       "  {'parameter_name': 'lowercase',\n",
       "   'parameter_id': 'eyJhcmciOiJsb3dlcmNhc2UiLCJ2aWQiOiIyIn0',\n",
       "   'default_value': 'True',\n",
       "   'current_value': 'True',\n",
       "   'task_name': 'Matrix of word-grams occurrences',\n",
       "   'constraints': {'select': {'values': ['False', 'True']}},\n",
       "   'value': None},\n",
       "  {'parameter_name': 'max_df',\n",
       "   'parameter_id': 'eyJhcmciOiJtYXhfZGYiLCJ2aWQiOiIyIn0',\n",
       "   'default_value': 0.5,\n",
       "   'current_value': 0.5,\n",
       "   'task_name': 'Matrix of word-grams occurrences',\n",
       "   'constraints': {'int': {'min': 1,\n",
       "     'max': 99999,\n",
       "     'supports_grid_search': False},\n",
       "    'float': {'min': 0.0, 'max': 1.0, 'supports_grid_search': False}},\n",
       "   'value': None},\n",
       "  {'parameter_name': 'max_features',\n",
       "   'parameter_id': 'eyJhcmciOiJtYXhfZmVhdHVyZXMiLCJ2aWQiOiIyIn0',\n",
       "   'default_value': 200000,\n",
       "   'current_value': 200000,\n",
       "   'task_name': 'Matrix of word-grams occurrences',\n",
       "   'constraints': {'select': {'values': ['None']},\n",
       "    'int': {'min': 1,\n",
       "     'max': 1000000000000000019884624838656,\n",
       "     'supports_grid_search': False}},\n",
       "   'value': None},\n",
       "  {'parameter_name': 'max_ngram',\n",
       "   'parameter_id': 'eyJhcmciOiJtYXhfbmdyYW0iLCJ2aWQiOiIyIn0',\n",
       "   'default_value': 2,\n",
       "   'current_value': 2,\n",
       "   'task_name': 'Matrix of word-grams occurrences',\n",
       "   'constraints': {'int': {'min': 0,\n",
       "     'max': 99,\n",
       "     'supports_grid_search': False}},\n",
       "   'value': None},\n",
       "  {'parameter_name': 'min_df',\n",
       "   'parameter_id': 'eyJhcmciOiJtaW5fZGYiLCJ2aWQiOiIyIn0',\n",
       "   'default_value': 2,\n",
       "   'current_value': 2,\n",
       "   'task_name': 'Matrix of word-grams occurrences',\n",
       "   'constraints': {'int': {'min': 1,\n",
       "     'max': 99999,\n",
       "     'supports_grid_search': False},\n",
       "    'float': {'min': 0.0, 'max': 1.0, 'supports_grid_search': False}},\n",
       "   'value': None},\n",
       "  {'parameter_name': 'min_ngram',\n",
       "   'parameter_id': 'eyJhcmciOiJtaW5fbmdyYW0iLCJ2aWQiOiIyIn0',\n",
       "   'default_value': 1,\n",
       "   'current_value': 1,\n",
       "   'task_name': 'Matrix of word-grams occurrences',\n",
       "   'constraints': {'int': {'min': 0,\n",
       "     'max': 99,\n",
       "     'supports_grid_search': False}},\n",
       "   'value': None},\n",
       "  {'parameter_name': 'norm',\n",
       "   'parameter_id': 'eyJhcmciOiJub3JtIiwidmlkIjoiMiJ9',\n",
       "   'default_value': 'l2',\n",
       "   'current_value': 'l2',\n",
       "   'task_name': 'Matrix of word-grams occurrences',\n",
       "   'constraints': {'select': {'values': ['None', 'l1', 'l2']}},\n",
       "   'value': None},\n",
       "  {'parameter_name': 'smooth_idf',\n",
       "   'parameter_id': 'eyJhcmciOiJzbW9vdGhfaWRmIiwidmlkIjoiMiJ9',\n",
       "   'default_value': 'True',\n",
       "   'current_value': 'True',\n",
       "   'task_name': 'Matrix of word-grams occurrences',\n",
       "   'constraints': {'select': {'values': ['False', 'True']}},\n",
       "   'value': None},\n",
       "  {'parameter_name': 'stemmer',\n",
       "   'parameter_id': 'eyJhcmciOiJzdGVtbWVyIiwidmlkIjoiMiJ9',\n",
       "   'default_value': 'None',\n",
       "   'current_value': 'None',\n",
       "   'task_name': 'Matrix of word-grams occurrences',\n",
       "   'constraints': {'select': {'values': ['None',\n",
       "      'snowball',\n",
       "      'lancaster',\n",
       "      'porter',\n",
       "      'wordnet']}},\n",
       "   'value': None},\n",
       "  {'parameter_name': 'sublinear_tf',\n",
       "   'parameter_id': 'eyJhcmciOiJzdWJsaW5lYXJfdGYiLCJ2aWQiOiIyIn0',\n",
       "   'default_value': 'False',\n",
       "   'current_value': 'False',\n",
       "   'task_name': 'Matrix of word-grams occurrences',\n",
       "   'constraints': {'select': {'values': ['False', 'True']}},\n",
       "   'value': None},\n",
       "  {'parameter_name': 'tokenizer',\n",
       "   'parameter_id': 'eyJhcmciOiJ0b2tlbml6ZXIiLCJ2aWQiOiIyIn0',\n",
       "   'default_value': 'None',\n",
       "   'current_value': 'None',\n",
       "   'task_name': 'Matrix of word-grams occurrences',\n",
       "   'constraints': {'select': {'values': ['None',\n",
       "      'space',\n",
       "      'wordpunct',\n",
       "      'tweet',\n",
       "      'treebank',\n",
       "      'japtiny',\n",
       "      'mecab']}},\n",
       "   'value': None},\n",
       "  {'parameter_name': 'use_idf',\n",
       "   'parameter_id': 'eyJhcmciOiJ1c2VfaWRmIiwidmlkIjoiMiJ9',\n",
       "   'default_value': 'False',\n",
       "   'current_value': 'False',\n",
       "   'task_name': 'Matrix of word-grams occurrences',\n",
       "   'constraints': {'select': {'values': ['False', 'True']}},\n",
       "   'value': None},\n",
       "  {'parameter_name': 'max_features',\n",
       "   'parameter_id': 'eyJhcmciOiJtYXhfZmVhdHVyZXMiLCJ2aWQiOiI3In0',\n",
       "   'default_value': 'None',\n",
       "   'current_value': 'None',\n",
       "   'task_name': 'One-Hot Encoding',\n",
       "   'constraints': {'select': {'values': ['None']},\n",
       "    'int': {'min': 1, 'max': 999999, 'supports_grid_search': False}},\n",
       "   'value': None},\n",
       "  {'parameter_name': 'max_features',\n",
       "   'parameter_id': 'eyJhcmciOiJtYXhfZmVhdHVyZXMiLCJ2aWQiOiIxIn0',\n",
       "   'default_value': 'None',\n",
       "   'current_value': 'None',\n",
       "   'task_name': 'One-Hot Encoding',\n",
       "   'constraints': {'select': {'values': ['None']},\n",
       "    'int': {'min': 1, 'max': 999999, 'supports_grid_search': False}},\n",
       "   'value': None},\n",
       "  {'parameter_name': 'max_features',\n",
       "   'parameter_id': 'eyJhcmciOiJtYXhfZmVhdHVyZXMiLCJ2aWQiOiIxMCJ9',\n",
       "   'default_value': 'None',\n",
       "   'current_value': 'None',\n",
       "   'task_name': 'One-Hot Encoding',\n",
       "   'constraints': {'select': {'values': ['None']},\n",
       "    'int': {'min': 1, 'max': 999999, 'supports_grid_search': False}},\n",
       "   'value': None},\n",
       "  {'parameter_name': 'min_support',\n",
       "   'parameter_id': 'eyJhcmciOiJtaW5fc3VwcG9ydCIsInZpZCI6IjEifQ',\n",
       "   'default_value': 10,\n",
       "   'current_value': 10,\n",
       "   'task_name': 'One-Hot Encoding',\n",
       "   'constraints': {'int': {'min': 1,\n",
       "     'max': 99999,\n",
       "     'supports_grid_search': False}},\n",
       "   'value': None},\n",
       "  {'parameter_name': 'min_support',\n",
       "   'parameter_id': 'eyJhcmciOiJtaW5fc3VwcG9ydCIsInZpZCI6IjEwIn0',\n",
       "   'default_value': 1,\n",
       "   'current_value': 1,\n",
       "   'task_name': 'One-Hot Encoding',\n",
       "   'constraints': {'int': {'min': 1,\n",
       "     'max': 99999,\n",
       "     'supports_grid_search': False}},\n",
       "   'value': None},\n",
       "  {'parameter_name': 'min_support',\n",
       "   'parameter_id': 'eyJhcmciOiJtaW5fc3VwcG9ydCIsInZpZCI6IjcifQ',\n",
       "   'default_value': 10,\n",
       "   'current_value': 10,\n",
       "   'task_name': 'One-Hot Encoding',\n",
       "   'constraints': {'int': {'min': 1,\n",
       "     'max': 99999,\n",
       "     'supports_grid_search': False}},\n",
       "   'value': None},\n",
       "  {'parameter_name': 'k',\n",
       "   'parameter_id': 'eyJhcmciOiJrIiwidmlkIjoiOCJ9',\n",
       "   'default_value': 250,\n",
       "   'current_value': 250,\n",
       "   'task_name': 'Partial Principal Components Analysis',\n",
       "   'constraints': {'select': {'values': ['auto']},\n",
       "    'int': {'min': 1, 'max': 100000, 'supports_grid_search': False}},\n",
       "   'value': None}]}"
      ]
     },
     "execution_count": 5,
     "metadata": {},
     "output_type": "execute_result"
    }
   ],
   "source": [
    "tune.get_parameters()"
   ]
  },
  {
   "cell_type": "markdown",
   "metadata": {},
   "source": [
    "Each model’s blueprint consists of a series of tasks including both preprocessing steps and the model itself. Each task contains tunable parameters. Let’s take a look at the available (tunable) tasks:"
   ]
  },
  {
   "cell_type": "code",
   "execution_count": 6,
   "metadata": {},
   "outputs": [
    {
     "data": {
      "text/plain": [
       "['Elastic-Net Classifier (mixing alpha=0.5 / Binomial Deviance) with Unsupervised Learning Features',\n",
       " 'K-Means Clustering',\n",
       " 'Matrix of word-grams occurrences',\n",
       " 'One-Hot Encoding',\n",
       " 'Partial Principal Components Analysis']"
      ]
     },
     "execution_count": 6,
     "metadata": {},
     "output_type": "execute_result"
    }
   ],
   "source": [
    "tune.get_task_names()"
   ]
  },
  {
   "cell_type": "markdown",
   "metadata": {},
   "source": [
    "To see all of the available hyperparameter options for the particular task, use the get_parameter_names method on the tune object:"
   ]
  },
  {
   "cell_type": "code",
   "execution_count": 7,
   "metadata": {
    "scrolled": true
   },
   "outputs": [
    {
     "data": {
      "text/plain": [
       "['analyzer',\n",
       " 'binary',\n",
       " 'language',\n",
       " 'lowercase',\n",
       " 'max_df',\n",
       " 'max_features',\n",
       " 'max_ngram',\n",
       " 'min_df',\n",
       " 'min_ngram',\n",
       " 'norm',\n",
       " 'smooth_idf',\n",
       " 'stemmer',\n",
       " 'sublinear_tf',\n",
       " 'tokenizer',\n",
       " 'use_idf']"
      ]
     },
     "execution_count": 7,
     "metadata": {},
     "output_type": "execute_result"
    }
   ],
   "source": [
    "task_name = tune.get_task_names()[2] #Save a task name by chance\n",
    "tune.get_parameter_names(task_name) # Get all of the hypermarameter options"
   ]
  },
  {
   "cell_type": "markdown",
   "metadata": {},
   "source": [
    "set_parameter is a method used on the tune object that lets you fill in all the hyperparameters for your particular model. If you pass an XGB model, RunTune will have the hyperparameters to tune XGB (e.g., colsample_bytree), whereas if you pass an Elastic Net model, the function will instead have hyperparameters for Elastic Nets (e.g., lambda) instead."
   ]
  },
  {
   "cell_type": "code",
   "execution_count": 8,
   "metadata": {},
   "outputs": [],
   "source": [
    "parameter_name = tune.get_parameter_names(task_name)[0] #Save a parameter name by chance\n",
    "\n",
    "tune.set_parameter(\n",
    "    task_name=task_name,\n",
    "    parameter_name=parameter_name,\n",
    "    value=1)"
   ]
  },
  {
   "cell_type": "markdown",
   "metadata": {},
   "source": [
    "When you are finished setting all the different parameters you want to chance, start tuning with the run method"
   ]
  },
  {
   "cell_type": "code",
   "execution_count": 9,
   "metadata": {},
   "outputs": [
    {
     "data": {
      "text/plain": [
       "ModelJob(Elastic-Net Classifier (mixing alpha=0.5 / Binomial Deviance) with Unsupervised Learning Features, status=inprogress)"
      ]
     },
     "execution_count": 9,
     "metadata": {},
     "output_type": "execute_result"
    }
   ],
   "source": [
    "tune.run()"
   ]
  },
  {
   "cell_type": "code",
   "execution_count": null,
   "metadata": {},
   "outputs": [],
   "source": []
  }
 ],
 "metadata": {
  "kernelspec": {
   "display_name": "Python 3",
   "language": "python",
   "name": "python3"
  },
  "language_info": {
   "codemirror_mode": {
    "name": "ipython",
    "version": 3
   },
   "file_extension": ".py",
   "mimetype": "text/x-python",
   "name": "python",
   "nbconvert_exporter": "python",
   "pygments_lexer": "ipython3",
   "version": "3.7.3"
  }
 },
 "nbformat": 4,
 "nbformat_minor": 2
}
